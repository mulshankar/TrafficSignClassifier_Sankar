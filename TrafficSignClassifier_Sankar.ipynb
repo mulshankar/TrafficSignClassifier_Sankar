{
 "cells": [
  {
   "cell_type": "markdown",
   "metadata": {},
   "source": [
    "# LeNet Lab Solution\n",
    "![LeNet Architecture](lenet.png)\n",
    "Source: Yan LeCun"
   ]
  },
  {
   "cell_type": "markdown",
   "metadata": {},
   "source": [
    "## Load Data\n",
    "\n",
    "Load the MNIST data, which comes pre-loaded with TensorFlow.\n",
    "\n",
    "You do not need to modify this section."
   ]
  },
  {
   "cell_type": "code",
   "execution_count": 9,
   "metadata": {},
   "outputs": [
    {
     "name": "stdout",
     "output_type": "stream",
     "text": [
      "\n",
      "Image Shape: (32, 32, 3)\n",
      "\n",
      "Training Set:   34799 samples\n",
      "Validation Set: 4410 samples\n",
      "Test Set:       12630 samples\n"
     ]
    }
   ],
   "source": [
    "import pickle\n",
    "\n",
    "training_file = 'train.p'\n",
    "validation_file='valid.p'\n",
    "testing_file = 'test.p'\n",
    "\n",
    "with open(training_file, mode='rb') as f:\n",
    "    train = pickle.load(f)\n",
    "with open(validation_file, mode='rb') as f:\n",
    "    valid = pickle.load(f)\n",
    "with open(testing_file, mode='rb') as f:\n",
    "    test = pickle.load(f)\n",
    "    \n",
    "X_train, y_train = train['features'], train['labels']\n",
    "X_valid, y_valid = valid['features'], valid['labels']\n",
    "X_test, y_test = test['features'], test['labels']\n",
    "\n",
    "print()\n",
    "print(\"Image Shape: {}\".format(X_train[0].shape))\n",
    "print()\n",
    "print(\"Training Set:   {} samples\".format(len(X_train)))\n",
    "print(\"Validation Set: {} samples\".format(len(X_valid)))\n",
    "print(\"Test Set:       {} samples\".format(len(X_test)))"
   ]
  },
  {
   "cell_type": "markdown",
   "metadata": {},
   "source": [
    "The MNIST data that TensorFlow pre-loads comes as 28x28x1 images.\n",
    "\n",
    "However, the LeNet architecture only accepts 32x32xC images, where C is the number of color channels.\n",
    "\n",
    "In order to reformat the MNIST data into a shape that LeNet will accept, we pad the data with two rows of zeros on the top and bottom, and two columns of zeros on the left and right (28+2+2 = 32).\n",
    "\n",
    "You do not need to modify this section."
   ]
  },
  {
   "cell_type": "markdown",
   "metadata": {},
   "source": [
    "## Visualize Data\n",
    "\n",
    "View a sample from the dataset.\n",
    "\n",
    "You do not need to modify this section."
   ]
  },
  {
   "cell_type": "code",
   "execution_count": 10,
   "metadata": {},
   "outputs": [
    {
     "data": {
      "image/png": "[encoded data removed]",
      "text/plain": [
       "<matplotlib.figure.Figure at 0xa7a0cf8>"
      ]
     },
     "metadata": {},
     "output_type": "display_data"
    }
   ],
   "source": [
    "import seaborn as sns\n",
    "import matplotlib.pyplot as plt\n",
    "\n",
    "hist = sns.distplot(y_train, bins=43)\n",
    "plt.xlim(0, 42) \n",
    "plt.show()\n"
   ]
  },
  {
   "cell_type": "code",
   "execution_count": 11,
   "metadata": {
    "collapsed": true
   },
   "outputs": [],
   "source": [
    "### pre-processing code from Yadav (google search)\n",
    "import numpy as np\n",
    "import cv2\n",
    "import matplotlib.gridspec as gridspec\n",
    "import matplotlib.image as mpimg\n",
    "\n",
    "def augment_brightness_camera_images(image):\n",
    "    #outimageHSV = np.uint8(image)\n",
    "    image1 = cv2.cvtColor(image,cv2.COLOR_RGB2HSV)\n",
    "    image1 = np.array(image1, dtype = np.float64)\n",
    "    random_bright = .5+np.random.uniform()\n",
    "    image1[:,:,2] = image1[:,:,2]*random_bright\n",
    "    image1[:,:,2][image1[:,:,2]>255]  = 255\n",
    "    image1 = np.array(image1, dtype = np.uint8)\n",
    "    image1 = cv2.cvtColor(image1,cv2.COLOR_HSV2RGB)\n",
    "    return image1\n",
    "\n",
    "def transform_image(img,ang_range,shear_range,trans_range):\n",
    "    '''\n",
    "    This function transforms images to generate new images.\n",
    "    The function takes in following arguments,\n",
    "    1- Image\n",
    "    2- ang_range: Range of angles for rotation\n",
    "    3- shear_range: Range of values to apply affine transform to\n",
    "    4- trans_range: Range of values to apply translations over. \n",
    "    \n",
    "    A Random uniform distribution is used to generate different parameters for transformation\n",
    "    \n",
    "    '''\n",
    "    # Rotation\n",
    "\n",
    "    ang_rot = np.random.uniform(ang_range)-ang_range/2\n",
    "    rows,cols,ch = img.shape    \n",
    "    Rot_M = cv2.getRotationMatrix2D((cols/2,rows/2),ang_rot,1)\n",
    "\n",
    "    # Translation\n",
    "    tr_x = trans_range*np.random.uniform()-trans_range/2\n",
    "    tr_y = trans_range*np.random.uniform()-trans_range/2\n",
    "    Trans_M = np.float32([[1,0,tr_x],[0,1,tr_y]])\n",
    "\n",
    "    # Shear\n",
    "    pts1 = np.float32([[5,5],[20,5],[5,20]])\n",
    "\n",
    "    pt1 = 5+shear_range*np.random.uniform()-shear_range/2\n",
    "    pt2 = 20+shear_range*np.random.uniform()-shear_range/2\n",
    "    \n",
    "    # Brightness \n",
    "    \n",
    "\n",
    "    pts2 = np.float32([[pt1,5],[pt2,pt1],[5,pt2]])\n",
    "\n",
    "    shear_M = cv2.getAffineTransform(pts1,pts2)\n",
    "        \n",
    "    img = cv2.warpAffine(img,Rot_M,(cols,rows))\n",
    "    img = cv2.warpAffine(img,Trans_M,(cols,rows))\n",
    "    img = cv2.warpAffine(img,shear_M,(cols,rows))\n",
    "    \n",
    "    #img = augment_brightness_camera_images(img) ### brightness not helping as much.. removing this from augmentation\n",
    "    \n",
    "    return img"
   ]
  },
  {
   "cell_type": "code",
   "execution_count": 12,
   "metadata": {},
   "outputs": [
    {
     "name": "stdout",
     "output_type": "stream",
     "text": [
      "7\n"
     ]
    },
    {
     "data": {
      "image/png": "[encoded data removed]",
      "text/plain": [
       "<matplotlib.figure.Figure at 0xa9b0748>"
      ]
     },
     "metadata": {},
     "output_type": "display_data"
    },
    {
     "data": {
      "image/png": "[encoded data removed]",
      "text/plain": [
       "<matplotlib.figure.Figure at 0xb4e69e8>"
      ]
     },
     "metadata": {},
     "output_type": "display_data"
    }
   ],
   "source": [
    "import random\n",
    "import numpy as np\n",
    "import matplotlib.pyplot as plt\n",
    "%matplotlib inline\n",
    "\n",
    "index = random.randint(0, len(X_train))\n",
    "image = X_train[index].squeeze()\n",
    "\n",
    "plt.figure(figsize=(1,1))\n",
    "plt.imshow(image, cmap=\"gray\")\n",
    "print(y_train[index])\n",
    "\n",
    "gs1 = gridspec.GridSpec(10, 10)\n",
    "gs1.update(wspace=0.01, hspace=0.02) # set the spacing between axes. \n",
    "plt.figure(figsize=(12,12))\n",
    "for i in range(5):\n",
    "    ax1 = plt.subplot(gs1[i])\n",
    "    ax1.set_xticklabels([])\n",
    "    ax1.set_yticklabels([])\n",
    "    ax1.set_aspect('equal')\n",
    "    img = transform_image(image,20,10,5)\n",
    "    plt.subplot(10,10,i+1)\n",
    "    plt.imshow(img)\n",
    "    plt.axis('off')\n",
    "\n",
    "plt.show()"
   ]
  },
  {
   "cell_type": "code",
   "execution_count": 13,
   "metadata": {},
   "outputs": [
    {
     "name": "stdout",
     "output_type": "stream",
     "text": [
      "\n",
      "Image Shape: (32, 32, 3)\n",
      "\n",
      "Training Set:   347990 samples\n",
      "Training Labels:   347990 labels\n",
      "Validation Set: 4410 samples\n",
      "Test Set:       12630 samples\n"
     ]
    }
   ],
   "source": [
    "### storing original images from the German Traffic dataset\n",
    "\n",
    "X_train_original=X_train\n",
    "X_valid_original=X_valid\n",
    "X_test_original=X_test\n",
    "\n",
    "### Augmenting images to the training data set #####\n",
    "\n",
    "X_train_augmented=[]\n",
    "y_train_augmented=[]\n",
    "\n",
    "## plain plus augmented images generation\n",
    "\n",
    "ind=-1 # simple index ctr\n",
    "n=9 # number of augmented images to generate\n",
    "\n",
    "for im in X_train_original:\n",
    "    X_train_augmented.append(im)\n",
    "    ind=ind+1\n",
    "    y_train_augmented.append(y_train[ind])\n",
    "    for i in range(n): \n",
    "        X_train_augmented.append(transform_image(im,15,8,3)) # generate augmented images\n",
    "        y_train_augmented.append(y_train[ind]) # maintain y labels for augmented images\n",
    "        \n",
    "print()\n",
    "print(\"Image Shape: {}\".format(X_train_augmented[0].shape))\n",
    "print()\n",
    "print(\"Training Set:   {} samples\".format(len(X_train_augmented)))\n",
    "print(\"Training Labels:   {} labels\".format(len(y_train_augmented)))\n",
    "print(\"Validation Set: {} samples\".format(len(X_valid)))\n",
    "print(\"Test Set:       {} samples\".format(len(X_test)))\n",
    "\n",
    "X_train=np.asarray(X_train_augmented)\n",
    "y_train=np.asarray(y_train_augmented)\n",
    "    "
   ]
  },
  {
   "cell_type": "code",
   "execution_count": 14,
   "metadata": {},
   "outputs": [
    {
     "data": {
      "image/png": "[encoded data removed]",
      "text/plain": [
       "<matplotlib.figure.Figure at 0xaa02048>"
      ]
     },
     "metadata": {},
     "output_type": "display_data"
    }
   ],
   "source": [
    "hist = sns.distplot(y_train, bins=43)\n",
    "plt.xlim(0, 42) \n",
    "plt.show()"
   ]
  },
  {
   "cell_type": "code",
   "execution_count": null,
   "metadata": {
    "collapsed": true
   },
   "outputs": [],
   "source": [
    "#### Normalize images post augmentation #########\n",
    "def normalize(X):\n",
    "    return((X/127.5)-1)\n",
    "\n",
    "X_train=normalize(X_train_np)\n",
    "X_valid=normalize(X_valid_original)\n",
    "X_test=normalize(X_test_original)\n",
    "\n",
    "print()\n",
    "print(\"Image Shape: {}\".format(X_train[0].shape))\n",
    "print()\n",
    "print(\"Training Set:   {} samples\".format(len(X_train)))\n",
    "print(\"Training Labels:   {} labels\".format(len(y_train_augmented)))\n",
    "print(\"Validation Set: {} samples\".format(len(X_valid)))\n",
    "print(\"Test Set:       {} samples\".format(len(X_test)))\n",
    "print()\n",
    "\n",
    "print()\n",
    "for t in range(5):\n",
    "    index = random.randint(0, len(X_train))\n",
    "    print(y_train_augmented[index])\n",
    "    image = X_train[index].squeeze()\n",
    "    plt.figure(figsize=(1,1))\n",
    "    plt.imshow(image, cmap=\"gray\")\n",
    "    print()"
   ]
  },
  {
   "cell_type": "markdown",
   "metadata": {},
   "source": [
    "## Preprocess Data\n",
    "\n",
    "Shuffle the training data.\n",
    "\n",
    "You do not need to modify this section."
   ]
  },
  {
   "cell_type": "code",
   "execution_count": 5,
   "metadata": {
    "collapsed": true
   },
   "outputs": [],
   "source": [
    "from sklearn.utils import shuffle\n",
    "\n",
    "X_train, y_train = shuffle(X_train, y_train)"
   ]
  },
  {
   "cell_type": "markdown",
   "metadata": {},
   "source": [
    "## Setup TensorFlow\n",
    "The `EPOCH` and `BATCH_SIZE` values affect the training speed and model accuracy.\n",
    "\n",
    "You do not need to modify this section."
   ]
  },
  {
   "cell_type": "code",
   "execution_count": 6,
   "metadata": {
    "collapsed": true
   },
   "outputs": [],
   "source": [
    "import tensorflow as tf\n",
    "\n"
   ]
  },
  {
   "cell_type": "markdown",
   "metadata": {},
   "source": [
    "## SOLUTION: Implement LeNet-5\n",
    "Implement the [LeNet-5](http://yann.lecun.com/exdb/lenet/) neural network architecture.\n",
    "\n",
    "This is the only cell you need to edit.\n",
    "### Input\n",
    "The LeNet architecture accepts a 32x32xC image as input, where C is the number of color channels. Since MNIST images are grayscale, C is 1 in this case.\n",
    "\n",
    "### Architecture\n",
    "**Layer 1: Convolutional.** The output shape should be 28x28x6.\n",
    "\n",
    "**Activation.** Your choice of activation function.\n",
    "\n",
    "**Pooling.** The output shape should be 14x14x6.\n",
    "\n",
    "**Layer 2: Convolutional.** The output shape should be 10x10x16.\n",
    "\n",
    "**Activation.** Your choice of activation function.\n",
    "\n",
    "**Pooling.** The output shape should be 5x5x16.\n",
    "\n",
    "**Flatten.** Flatten the output shape of the final pooling layer such that it's 1D instead of 3D. The easiest way to do is by using `tf.contrib.layers.flatten`, which is already imported for you.\n",
    "\n",
    "**Layer 3: Fully Connected.** This should have 120 outputs.\n",
    "\n",
    "**Activation.** Your choice of activation function.\n",
    "\n",
    "**Layer 4: Fully Connected.** This should have 84 outputs.\n",
    "\n",
    "**Activation.** Your choice of activation function.\n",
    "\n",
    "**Layer 5: Fully Connected (Logits).** This should have 10 outputs.\n",
    "\n",
    "### Output\n",
    "Return the result of the 2nd fully connected layer."
   ]
  },
  {
   "cell_type": "code",
   "execution_count": 7,
   "metadata": {
    "collapsed": true
   },
   "outputs": [],
   "source": [
    "from tensorflow.contrib.layers import flatten\n",
    "\n",
    "def LeNet(x):    \n",
    "    # Arguments used for tf.truncated_normal, randomly defines variables for the weights and biases for each layer\n",
    "    mu = 0\n",
    "    sigma = 0.1\n",
    "    \n",
    "\n",
    "    # SOLUTION: Layer 1: Convolutional. Input = 32x32x3. Output = 28x28x26.\n",
    "    conv1_W = tf.Variable(tf.truncated_normal(shape=(5, 5, 3, 26), mean = mu, stddev = sigma))\n",
    "    conv1_b = tf.Variable(tf.zeros(26))\n",
    "    conv1   = tf.nn.conv2d(x, conv1_W, strides=[1, 1, 1, 1], padding='VALID') + conv1_b\n",
    "\n",
    "    # SOLUTION: Activation.\n",
    "    conv1 = tf.nn.relu(conv1)\n",
    "\n",
    "    # SOLUTION: Pooling. Input = 28x28x26. Output = 14x14x26.\n",
    "    conv1 = tf.nn.avg_pool(conv1, ksize=[1, 2, 2, 1], strides=[1, 2, 2, 1], padding='VALID')\n",
    "    \n",
    "    #conv1=tf.nn.dropout(conv1,keep_prob=0.8)    \n",
    "\n",
    "    # SOLUTION: Layer 2: Convolutional. Output = 10x10x16.\n",
    "    conv2_W = tf.Variable(tf.truncated_normal(shape=(5, 5, 26, 16), mean = mu, stddev = sigma))\n",
    "    conv2_b = tf.Variable(tf.zeros(16))\n",
    "    conv2   = tf.nn.conv2d(conv1, conv2_W, strides=[1, 1, 1, 1], padding='VALID') + conv2_b\n",
    "    \n",
    "    # SOLUTION: Activation.\n",
    "    conv2 = tf.nn.relu(conv2)\n",
    "\n",
    "    # SOLUTION: Pooling. Input = 10x10x16. Output = 5x5x16.\n",
    "    conv2 = tf.nn.avg_pool(conv2, ksize=[1, 2, 2, 1], strides=[1, 2, 2, 1], padding='VALID')\n",
    "    \n",
    "    conv2=tf.nn.dropout(conv2,keep_prob=0.7)\n",
    "\n",
    "    # SOLUTION: Flatten. Input = 5x5x16. Output = 400.\n",
    "    fc0   = flatten(conv2)\n",
    "    \n",
    "    # SOLUTION: Layer 3: Fully Connected. Input = 400. Output = 120.\n",
    "    fc1_W = tf.Variable(tf.truncated_normal(shape=(400, 120), mean = mu, stddev = sigma))\n",
    "    fc1_b = tf.Variable(tf.zeros(120))\n",
    "    fc1   = tf.matmul(fc0, fc1_W) + fc1_b\n",
    "    \n",
    "    # SOLUTION: Activation.\n",
    "    fc1    = tf.nn.relu(fc1)    \n",
    "    \n",
    "    # SOLUTION: Layer 4: Fully Connected. Input = 120. Output = 84.\n",
    "    fc2_W  = tf.Variable(tf.truncated_normal(shape=(120, 84), mean = mu, stddev = sigma))\n",
    "    fc2_b  = tf.Variable(tf.zeros(84))\n",
    "    fc2    = tf.matmul(fc1, fc2_W) + fc2_b\n",
    "    \n",
    "    # SOLUTION: Activation.\n",
    "    fc2    = tf.nn.relu(fc2)\n",
    "    \n",
    "    fc2=tf.nn.dropout(fc2,keep_prob=0.8)\n",
    "\n",
    "    # SOLUTION: Layer 5: Fully Connected. Input = 84. Output = 43.\n",
    "    fc3_W  = tf.Variable(tf.truncated_normal(shape=(84, 43), mean = mu, stddev = sigma))\n",
    "    fc3_b  = tf.Variable(tf.zeros(43))\n",
    "    logits = tf.matmul(fc2, fc3_W) + fc3_b    \n",
    "       \n",
    "    return logits"
   ]
  },
  {
   "cell_type": "markdown",
   "metadata": {},
   "source": [
    "## Features and Labels\n",
    "Train LeNet to classify [MNIST](http://yann.lecun.com/exdb/mnist/) data.\n",
    "\n",
    "`x` is a placeholder for a batch of input images.\n",
    "`y` is a placeholder for a batch of output labels.\n",
    "\n",
    "You do not need to modify this section."
   ]
  },
  {
   "cell_type": "code",
   "execution_count": 8,
   "metadata": {
    "collapsed": true
   },
   "outputs": [],
   "source": [
    "x = tf.placeholder(tf.float32, (None, 32, 32, 3))\n",
    "y = tf.placeholder(tf.int32, (None))\n",
    "one_hot_y = tf.one_hot(y, 43)"
   ]
  },
  {
   "cell_type": "markdown",
   "metadata": {},
   "source": [
    "## Training Pipeline\n",
    "Create a training pipeline that uses the model to classify MNIST data.\n",
    "\n",
    "You do not need to modify this section."
   ]
  },
  {
   "cell_type": "code",
   "execution_count": 9,
   "metadata": {
    "collapsed": true
   },
   "outputs": [],
   "source": [
    "rate = 0.001\n",
    "EPOCHS = 10\n",
    "BATCH_SIZE = 250\n",
    "beta=0.01 # for L2 normalization\n",
    "\n",
    "logits = LeNet(x)\n",
    "cross_entropy = tf.nn.softmax_cross_entropy_with_logits(labels=one_hot_y, logits=logits)\n",
    "loss_operation = tf.reduce_mean(cross_entropy)\n",
    "optimizer = tf.train.AdamOptimizer(learning_rate = rate)\n",
    "training_operation = optimizer.minimize(loss_operation)\n",
    "\n",
    "train_loss_history = []\n",
    "valid_loss_history = []\n",
    "\n",
    "train_acc_history = []\n",
    "valid_acc_history = []"
   ]
  },
  {
   "cell_type": "markdown",
   "metadata": {},
   "source": [
    "## Model Evaluation\n",
    "Evaluate how well the loss and accuracy of the model for a given dataset.\n",
    "\n",
    "You do not need to modify this section."
   ]
  },
  {
   "cell_type": "code",
   "execution_count": 10,
   "metadata": {
    "collapsed": true
   },
   "outputs": [],
   "source": [
    "correct_prediction = tf.equal(tf.argmax(logits, 1), tf.argmax(one_hot_y, 1))\n",
    "accuracy_operation = tf.reduce_mean(tf.cast(correct_prediction, tf.float32))\n",
    "saver = tf.train.Saver()\n",
    "\n",
    "def evaluate(X_data, y_data):\n",
    "    num_examples = len(X_data)\n",
    "    total_accuracy = 0\n",
    "    total_loss = 0\n",
    "    sess = tf.get_default_session()\n",
    "    for offset in range(0, num_examples, BATCH_SIZE):\n",
    "        batch_x, batch_y = X_data[offset:offset+BATCH_SIZE], y_data[offset:offset+BATCH_SIZE]\n",
    "        #accuracy = sess.run(accuracy_operation, feed_dict={x: batch_x, y: batch_y})\n",
    "        loss, accuracy = sess.run([loss_operation, accuracy_operation], feed_dict={x: batch_x, y: batch_y})\n",
    "        total_accuracy += (accuracy * len(batch_x))\n",
    "        total_loss += (loss * len(batch_x))\n",
    "    return total_loss/num_examples, total_accuracy/num_examples"
   ]
  },
  {
   "cell_type": "markdown",
   "metadata": {},
   "source": [
    "## Train the Model\n",
    "Run the training data through the training pipeline to train the model.\n",
    "\n",
    "Before each epoch, shuffle the training set.\n",
    "\n",
    "After each epoch, measure the loss and accuracy of the validation set.\n",
    "\n",
    "Save the model after training.\n",
    "\n",
    "You do not need to modify this section."
   ]
  },
  {
   "cell_type": "code",
   "execution_count": 11,
   "metadata": {},
   "outputs": [
    {
     "name": "stdout",
     "output_type": "stream",
     "text": [
      "Training...\n",
      "\n",
      "EPOCH 1 ...\n",
      "Validation Accuracy = 0.391\n",
      "Train Accuracy = 0.367\n",
      "\n",
      "EPOCH 2 ...\n",
      "Validation Accuracy = 0.706\n",
      "Train Accuracy = 0.657\n",
      "\n",
      "EPOCH 3 ...\n",
      "Validation Accuracy = 0.807\n",
      "Train Accuracy = 0.787\n",
      "\n",
      "EPOCH 4 ...\n",
      "Validation Accuracy = 0.852\n",
      "Train Accuracy = 0.839\n",
      "\n",
      "EPOCH 5 ...\n",
      "Validation Accuracy = 0.865\n",
      "Train Accuracy = 0.862\n",
      "\n",
      "EPOCH 6 ...\n",
      "Validation Accuracy = 0.885\n",
      "Train Accuracy = 0.863\n",
      "\n",
      "EPOCH 7 ...\n",
      "Validation Accuracy = 0.873\n",
      "Train Accuracy = 0.879\n",
      "\n",
      "EPOCH 8 ...\n",
      "Validation Accuracy = 0.891\n",
      "Train Accuracy = 0.888\n",
      "\n",
      "EPOCH 9 ...\n",
      "Validation Accuracy = 0.887\n",
      "Train Accuracy = 0.899\n",
      "\n",
      "EPOCH 10 ...\n",
      "Validation Accuracy = 0.896\n",
      "Train Accuracy = 0.903\n",
      "\n",
      "EPOCH 11 ...\n",
      "Validation Accuracy = 0.912\n",
      "Train Accuracy = 0.916\n",
      "\n",
      "EPOCH 12 ...\n",
      "Validation Accuracy = 0.920\n",
      "Train Accuracy = 0.926\n",
      "\n",
      "EPOCH 13 ...\n",
      "Validation Accuracy = 0.920\n",
      "Train Accuracy = 0.922\n",
      "\n",
      "EPOCH 14 ...\n",
      "Validation Accuracy = 0.934\n",
      "Train Accuracy = 0.931\n",
      "\n",
      "EPOCH 15 ...\n",
      "Validation Accuracy = 0.922\n",
      "Train Accuracy = 0.937\n",
      "\n",
      "Model saved\n",
      "\n"
     ]
    },
    {
     "data": {
      "image/png": "[encoded data removed]",
      "text/plain": [
       "<matplotlib.figure.Figure at 0x7fd43fc32a58>"
      ]
     },
     "metadata": {},
     "output_type": "display_data"
    }
   ],
   "source": [
    "with tf.Session() as sess:\n",
    "    sess.run(tf.global_variables_initializer())\n",
    "    num_examples = len(X_train)\n",
    "    \n",
    "    print(\"Training...\")\n",
    "    print()\n",
    "    for i in range(EPOCHS):\n",
    "        X_train, y_train = shuffle(X_train, y_train)\n",
    "        for offset in range(0, num_examples, BATCH_SIZE):\n",
    "            end = offset + BATCH_SIZE\n",
    "            batch_x, batch_y = X_train[offset:end], y_train[offset:end]\n",
    "            sess.run(training_operation, feed_dict={x: batch_x, y: batch_y})\n",
    "            \n",
    "        validation_loss, validation_accuracy = evaluate(X_valid, y_valid)\n",
    "        valid_loss_history.append(validation_loss)\n",
    "        valid_acc_history.append(validation_accuracy)\n",
    "        \n",
    "        train_loss, train_accuracy = evaluate(X_train, y_train)\n",
    "        train_loss_history.append(train_loss)\n",
    "        train_acc_history.append(train_accuracy)\n",
    "            \n",
    "        print(\"EPOCH {} ...\".format(i+1))\n",
    "        print(\"Validation Accuracy = {:.3f}\".format(validation_accuracy))\n",
    "        print(\"Train Accuracy = {:.3f}\".format(train_accuracy))\n",
    "        print()        \n",
    "        \n",
    "    saver.save(sess, 'sankar_model')\n",
    "    print(\"Model saved\")\n",
    "    \n",
    "    loss_plot = plt.subplot(2,1,1)\n",
    "    loss_plot.set_title('Loss')\n",
    "    loss_plot.plot(train_loss_history, 'r', label='Training Loss')\n",
    "    loss_plot.plot(valid_loss_history, 'b', label='Validation Loss')\n",
    "    loss_plot.set_xlim([0, EPOCHS])\n",
    "    loss_plot.legend(loc=2)\n",
    "    print()\n",
    "    acc_plot = plt.subplot(2,1,2)\n",
    "    acc_plot.set_title('Accuracy')\n",
    "    acc_plot.plot(train_acc_history, 'r', label='Training Accuracy')\n",
    "    acc_plot.plot(valid_acc_history, 'b', label='Validation Accuracy')\n",
    "    acc_plot.set_xlim([0, EPOCHS])\n",
    "    acc_plot.legend(loc=2)"
   ]
  },
  {
   "cell_type": "markdown",
   "metadata": {},
   "source": [
    "## Evaluate the Model\n",
    "Once you are completely satisfied with your model, evaluate the performance of the model on the test set.\n",
    "\n",
    "Be sure to only do this once!\n",
    "\n",
    "If you were to measure the performance of your trained model on the test set, then improve your model, and then measure the performance of your model on the test set again, that would invalidate your test results. You wouldn't get a true measure of how well your model would perform against real data.\n",
    "\n",
    "You do not need to modify this section."
   ]
  },
  {
   "cell_type": "code",
   "execution_count": 12,
   "metadata": {},
   "outputs": [
    {
     "name": "stdout",
     "output_type": "stream",
     "text": [
      "Test Accuracy = 0.912\n"
     ]
    }
   ],
   "source": [
    "with tf.Session() as sess:\n",
    "    #saver.restore(sess, tf.train.latest_checkpoint('.'))\n",
    "    \n",
    "    new_saver = tf.train.import_meta_graph('sankar_model.meta')  \n",
    "    new_saver.restore(sess, tf.train.latest_checkpoint('.')) \n",
    "\n",
    "    test_loss,test_accuracy = evaluate(X_test, y_test)\n",
    "    print(\"Test Accuracy = {:.3f}\".format(test_accuracy))"
   ]
  },
  {
   "cell_type": "code",
   "execution_count": 13,
   "metadata": {},
   "outputs": [
    {
     "name": "stdout",
     "output_type": "stream",
     "text": [
      "NoEntry.jpg\n"
     ]
    },
    {
     "data": {
      "image/png": "[encoded data removed]",
      "text/plain": [
       "<matplotlib.figure.Figure at 0x7fd43c070f98>"
      ]
     },
     "metadata": {},
     "output_type": "display_data"
    },
    {
     "name": "stdout",
     "output_type": "stream",
     "text": [
      "Pedestrians.jpg\n"
     ]
    },
    {
     "data": {
      "image/png": "[encoded data removed]",
      "text/plain": [
       "<matplotlib.figure.Figure at 0x7fd43c070eb8>"
      ]
     },
     "metadata": {},
     "output_type": "display_data"
    },
    {
     "name": "stdout",
     "output_type": "stream",
     "text": [
      "turnRight.jpg\n"
     ]
    },
    {
     "data": {
      "image/png": "[encoded data removed]",
      "text/plain": [
       "<matplotlib.figure.Figure at 0x7fd434f53438>"
      ]
     },
     "metadata": {},
     "output_type": "display_data"
    },
    {
     "name": "stdout",
     "output_type": "stream",
     "text": [
      "BumpyRoad.jpg\n"
     ]
    },
    {
     "data": {
      "image/png": "[encoded data removed]",
      "text/plain": [
       "<matplotlib.figure.Figure at 0x7fd434f534e0>"
      ]
     },
     "metadata": {},
     "output_type": "display_data"
    },
    {
     "name": "stdout",
     "output_type": "stream",
     "text": [
      "SL80.jpg\n"
     ]
    },
    {
     "data": {
      "image/png": "[encoded data removed]",
      "text/plain": [
       "<matplotlib.figure.Figure at 0x7fd434f1eb70>"
      ]
     },
     "metadata": {},
     "output_type": "display_data"
    },
    {
     "name": "stdout",
     "output_type": "stream",
     "text": [
      "Image array shape is  (5, 32, 32, 3)\n",
      "Image array data_type is  uint8\n",
      "Are all values bet 0 and 255?  True\n"
     ]
    }
   ],
   "source": [
    "## Testing with new downloaded images from google\n",
    "\n",
    "import os\n",
    "from PIL import Image\n",
    "\n",
    "new_images_folder = './FormattedPics/'\n",
    "listing = os.listdir(new_images_folder)\n",
    "true_labels=np.array([17,27,33,22,5]) ## NoEntry,Pedestrians,turnRight,BumpyRoad,SL80\n",
    "image_array=np.array([],dtype='uint8')\n",
    "\n",
    "### visualize images\n",
    "for i, file in enumerate(listing):\n",
    "    print(file)\n",
    "    new_image =Image.open(new_images_folder + file)\n",
    "    new_image.load()\n",
    "    new_imagenp=np.asarray(new_image)\n",
    "    plt.figure(figsize=(1,1))\n",
    "    plt.imshow(new_imagenp)\n",
    "    plt.show()\n",
    "    image_array=np.append(image_array,new_imagenp)    \n",
    "\n",
    "image_array = np.reshape(image_array, [5, 32, 32, 3])\n",
    "print(\"Image array shape is \",image_array.shape)\n",
    "print(\"Image array data_type is \",image_array.dtype)\n",
    "print(\"Are all values bet 0 and 255? \",(image_array > -1).all() and (image_array < 256).all())\n"
   ]
  },
  {
   "cell_type": "code",
   "execution_count": 14,
   "metadata": {},
   "outputs": [
    {
     "name": "stdout",
     "output_type": "stream",
     "text": [
      "Internet Images Accuracy = 0.600\n",
      "\n",
      "softmax probabilties for top 5 predictions are:\n",
      "[[1.0000000 0.0000000 0.0000000 0.0000000 0.0000000]\n",
      " [0.9987405 0.0010128 0.0001658 0.0000293 0.0000254]\n",
      " [0.9999999 0.0000001 0.0000000 0.0000000 0.0000000]\n",
      " [0.9998846 0.0001153 0.0000000 0.0000000 0.0000000]\n",
      " [0.7908522 0.0600510 0.0561424 0.0464899 0.0160735]]\n",
      "\n",
      "top 5 predictions are:\n",
      "[[17 29 10 14 20]\n",
      " [27 18 11 28 25]\n",
      " [33 40 39 37 36]\n",
      " [29 30 28 25 23]\n",
      " [37  1 35 33  7]]\n",
      "\n",
      "Actual Labels are: [17 27 33 22  5]\n"
     ]
    }
   ],
   "source": [
    "## Evaluate accuracy with new images (image_array) and true_labels\n",
    "\n",
    "with tf.Session() as sess:\n",
    "      \n",
    "    new_saver = tf.train.import_meta_graph('sankar_model.meta')  \n",
    "    new_saver.restore(sess, tf.train.latest_checkpoint('.'))        \n",
    "    my_loss,my_accuracy = evaluate(image_array, true_labels)\n",
    "    print(\"Internet Images Accuracy = {:.3f}\".format(my_accuracy))    \n",
    "    print()\n",
    "    predicted_logits = sess.run(logits, feed_dict={x: image_array})\n",
    "    result=sess.run(tf.nn.softmax(predicted_logits))\n",
    "    \n",
    "    values, indices = tf.nn.top_k(result, 5)\n",
    "    probs = sess.run(values)\n",
    "    predictions = sess.run(indices)\n",
    "    \n",
    "    np.set_printoptions(formatter={'float': lambda probs: \"{0:0.7f}\".format(probs)})    \n",
    "    print(\"softmax probabilties for top 5 predictions are:\")\n",
    "    print(probs)\n",
    "    print()\n",
    "    print(\"top 5 predictions are:\")\n",
    "    print(predictions)\n",
    "    print()\n",
    "    true_labels=np.array([17,27,33,22,5]) ## NoEntry,Pedestrians,turnRight,BumpyRoad,SL80 \n",
    "    print(\"Actual Labels are:\",true_labels)\n",
    "\n",
    "    #true_labels=np.array([17,27,33,22,5]) ## NoEntry,Pedestrians,turnRight,BumpyRoad,SL80 "
   ]
  },
  {
   "cell_type": "code",
   "execution_count": 15,
   "metadata": {},
   "outputs": [
    {
     "data": {
      "image/png": "[encoded data removed]",
      "text/plain": [
       "<matplotlib.figure.Figure at 0x7fd43fcfebe0>"
      ]
     },
     "metadata": {},
     "output_type": "display_data"
    },
    {
     "data": {
      "image/png": "[encoded data removed]",
      "text/plain": [
       "<matplotlib.figure.Figure at 0x7fd43c331550>"
      ]
     },
     "metadata": {},
     "output_type": "display_data"
    },
    {
     "data": {
      "image/png": "[encoded data removed]",
      "text/plain": [
       "<matplotlib.figure.Figure at 0x7fd434efdc88>"
      ]
     },
     "metadata": {},
     "output_type": "display_data"
    },
    {
     "data": {
      "image/png": "[encoded data removed]",
      "text/plain": [
       "<matplotlib.figure.Figure at 0x7fd434e8a6a0>"
      ]
     },
     "metadata": {},
     "output_type": "display_data"
    },
    {
     "data": {
      "image/png": "[encoded data removed]",
      "text/plain": [
       "<matplotlib.figure.Figure at 0x7fd434e46f28>"
      ]
     },
     "metadata": {},
     "output_type": "display_data"
    }
   ],
   "source": [
    "## plot softmax probabilities\n",
    "\n",
    "width = 0.5\n",
    "x_vals = range(43)\n",
    "for i in range(5):\n",
    "    fig = plt.figure()\n",
    "    ax = fig.add_subplot(5,1,i+1)\n",
    "    ax.bar(x_vals, result[i], width)\n",
    "    plt.show()"
   ]
  },
  {
   "cell_type": "code",
   "execution_count": null,
   "metadata": {
    "collapsed": true
   },
   "outputs": [],
   "source": []
  }
 ],
 "metadata": {
  "anaconda-cloud": {},
  "kernelspec": {
   "display_name": "Python 3",
   "language": "python",
   "name": "python3"
  },
  "language_info": {
   "codemirror_mode": {
    "name": "ipython",
    "version": 3
   },
   "file_extension": ".py",
   "mimetype": "text/x-python",
   "name": "python",
   "nbconvert_exporter": "python",
   "pygments_lexer": "ipython3",
   "version": "3.5.2"
  },
  "widgets": {
   "state": {},
   "version": "1.1.2"
  }
 },
 "nbformat": 4,
 "nbformat_minor": 1
}
